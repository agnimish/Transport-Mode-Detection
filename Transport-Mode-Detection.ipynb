{
  "nbformat": 4,
  "nbformat_minor": 0,
  "metadata": {
    "colab": {
      "name": "CE784A - Transportation Mode Detection - Nimish.ipynb",
      "provenance": [],
      "collapsed_sections": [
        "RZpLqQXuumAE",
        "TL5fiOYtt_W0",
        "YHxcbUOcuToE",
        "tcg0HA6otu1X"
      ],
      "toc_visible": true
    },
    "kernelspec": {
      "name": "python3",
      "display_name": "Python 3"
    },
    "accelerator": "TPU"
  },
  "cells": [
    {
      "cell_type": "markdown",
      "metadata": {
        "id": "ohvQSeKKPvmp"
      },
      "source": [
        "## Transport Mode Detection - Nimish Agarwal (170440)"
      ]
    },
    {
      "cell_type": "markdown",
      "metadata": {
        "id": "RZpLqQXuumAE"
      },
      "source": [
        "###Setup"
      ]
    },
    {
      "cell_type": "code",
      "metadata": {
        "id": "dKNrmAFveDfd",
        "outputId": "0e8a6f1c-56d6-4b86-d465-0d626e0f45a2",
        "colab": {
          "base_uri": "https://localhost:8080/",
          "height": 51
        }
      },
      "source": [
        "#  Mounting Drive\n",
        "from google.colab import drive\n",
        "drive.mount('/content/drive')\n",
        "%cd /content/drive"
      ],
      "execution_count": 1,
      "outputs": [
        {
          "output_type": "stream",
          "text": [
            "Mounted at /content/drive\n",
            "/content/drive\n"
          ],
          "name": "stdout"
        }
      ]
    },
    {
      "cell_type": "code",
      "metadata": {
        "id": "JUfblW6Yn-NZ"
      },
      "source": [
        "# Importing Libraries\n",
        "import pandas as pd\n",
        "import numpy as np\n",
        "import matplotlib.pyplot as plt\n",
        "import seaborn as sns\n",
        "from datetime import datetime, timedelta\n",
        "import time\n",
        "import io"
      ],
      "execution_count": 2,
      "outputs": []
    },
    {
      "cell_type": "code",
      "metadata": {
        "id": "cSl-T29FuirQ"
      },
      "source": [
        "MAIN_DIR = 'My Drive/4th year Stuff/CE784A/TMD_Dataset/'\n",
        "DATASET_DIR = MAIN_DIR + 'cleaned.csv'"
      ],
      "execution_count": 3,
      "outputs": []
    },
    {
      "cell_type": "markdown",
      "metadata": {
        "id": "TL5fiOYtt_W0"
      },
      "source": [
        "### Part 1 - Reading and Exploring Dataset"
      ]
    },
    {
      "cell_type": "code",
      "metadata": {
        "id": "CAj7bSUNfRvs",
        "outputId": "f2f64ccf-86ea-4306-bb01-986f2f0913ca",
        "colab": {
          "base_uri": "https://localhost:8080/",
          "height": 204
        }
      },
      "source": [
        "df = pd.read_csv(DATASET_DIR)\n",
        "df.head()"
      ],
      "execution_count": 4,
      "outputs": [
        {
          "output_type": "execute_result",
          "data": {
            "text/html": [
              "<div>\n",
              "<style scoped>\n",
              "    .dataframe tbody tr th:only-of-type {\n",
              "        vertical-align: middle;\n",
              "    }\n",
              "\n",
              "    .dataframe tbody tr th {\n",
              "        vertical-align: top;\n",
              "    }\n",
              "\n",
              "    .dataframe thead th {\n",
              "        text-align: right;\n",
              "    }\n",
              "</style>\n",
              "<table border=\"1\" class=\"dataframe\">\n",
              "  <thead>\n",
              "    <tr style=\"text-align: right;\">\n",
              "      <th></th>\n",
              "      <th>user</th>\n",
              "      <th>timestamp</th>\n",
              "      <th>x</th>\n",
              "      <th>y</th>\n",
              "      <th>z</th>\n",
              "      <th>class</th>\n",
              "    </tr>\n",
              "  </thead>\n",
              "  <tbody>\n",
              "    <tr>\n",
              "      <th>0</th>\n",
              "      <td>a2d80ed662f34d32951eb1c6ed076c313e358b73</td>\n",
              "      <td>2018-06-04 16:26:55.053</td>\n",
              "      <td>0.78</td>\n",
              "      <td>-9.13</td>\n",
              "      <td>-3.74</td>\n",
              "      <td>bus</td>\n",
              "    </tr>\n",
              "    <tr>\n",
              "      <th>1</th>\n",
              "      <td>a2d80ed662f34d32951eb1c6ed076c313e358b73</td>\n",
              "      <td>2018-06-04 16:26:55.111</td>\n",
              "      <td>0.79</td>\n",
              "      <td>-9.11</td>\n",
              "      <td>-3.75</td>\n",
              "      <td>bus</td>\n",
              "    </tr>\n",
              "    <tr>\n",
              "      <th>2</th>\n",
              "      <td>a2d80ed662f34d32951eb1c6ed076c313e358b73</td>\n",
              "      <td>2018-06-04 16:26:55.169</td>\n",
              "      <td>0.80</td>\n",
              "      <td>-9.12</td>\n",
              "      <td>-3.75</td>\n",
              "      <td>bus</td>\n",
              "    </tr>\n",
              "    <tr>\n",
              "      <th>3</th>\n",
              "      <td>a2d80ed662f34d32951eb1c6ed076c313e358b73</td>\n",
              "      <td>2018-06-04 16:26:55.228</td>\n",
              "      <td>0.78</td>\n",
              "      <td>-9.14</td>\n",
              "      <td>-3.76</td>\n",
              "      <td>bus</td>\n",
              "    </tr>\n",
              "    <tr>\n",
              "      <th>4</th>\n",
              "      <td>a2d80ed662f34d32951eb1c6ed076c313e358b73</td>\n",
              "      <td>2018-06-04 16:26:55.286</td>\n",
              "      <td>0.83</td>\n",
              "      <td>-9.12</td>\n",
              "      <td>-3.80</td>\n",
              "      <td>bus</td>\n",
              "    </tr>\n",
              "  </tbody>\n",
              "</table>\n",
              "</div>"
            ],
            "text/plain": [
              "                                       user  ... class\n",
              "0  a2d80ed662f34d32951eb1c6ed076c313e358b73  ...   bus\n",
              "1  a2d80ed662f34d32951eb1c6ed076c313e358b73  ...   bus\n",
              "2  a2d80ed662f34d32951eb1c6ed076c313e358b73  ...   bus\n",
              "3  a2d80ed662f34d32951eb1c6ed076c313e358b73  ...   bus\n",
              "4  a2d80ed662f34d32951eb1c6ed076c313e358b73  ...   bus\n",
              "\n",
              "[5 rows x 6 columns]"
            ]
          },
          "metadata": {
            "tags": []
          },
          "execution_count": 4
        }
      ]
    },
    {
      "cell_type": "code",
      "metadata": {
        "id": "kHDHropbomk8",
        "outputId": "ea5c1d91-c7a8-402e-cc5b-d5654f6f165a",
        "colab": {
          "base_uri": "https://localhost:8080/",
          "height": 289
        }
      },
      "source": [
        "print(df.info())\n",
        "print('classes: ', df['class'].unique())\n",
        "# Unique users\n",
        "print('Unique users: ', len(df['user'].unique()))"
      ],
      "execution_count": 5,
      "outputs": [
        {
          "output_type": "stream",
          "text": [
            "<class 'pandas.core.frame.DataFrame'>\n",
            "RangeIndex: 5653053 entries, 0 to 5653052\n",
            "Data columns (total 6 columns):\n",
            " #   Column     Dtype  \n",
            "---  ------     -----  \n",
            " 0   user       object \n",
            " 1   timestamp  object \n",
            " 2   x          float64\n",
            " 3   y          float64\n",
            " 4   z          float64\n",
            " 5   class      object \n",
            "dtypes: float64(3), object(3)\n",
            "memory usage: 258.8+ MB\n",
            "None\n",
            "classes:  ['bus' 'walk' 'car' 'bike' 'train' 'e-bike']\n",
            "Unique users:  32\n"
          ],
          "name": "stdout"
        }
      ]
    },
    {
      "cell_type": "code",
      "metadata": {
        "id": "UGIQAv1x4AFU",
        "outputId": "c837adac-66bc-4970-f511-ca0ffba2a2e6",
        "colab": {
          "base_uri": "https://localhost:8080/",
          "height": 297
        }
      },
      "source": [
        "df.describe()"
      ],
      "execution_count": 6,
      "outputs": [
        {
          "output_type": "execute_result",
          "data": {
            "text/html": [
              "<div>\n",
              "<style scoped>\n",
              "    .dataframe tbody tr th:only-of-type {\n",
              "        vertical-align: middle;\n",
              "    }\n",
              "\n",
              "    .dataframe tbody tr th {\n",
              "        vertical-align: top;\n",
              "    }\n",
              "\n",
              "    .dataframe thead th {\n",
              "        text-align: right;\n",
              "    }\n",
              "</style>\n",
              "<table border=\"1\" class=\"dataframe\">\n",
              "  <thead>\n",
              "    <tr style=\"text-align: right;\">\n",
              "      <th></th>\n",
              "      <th>x</th>\n",
              "      <th>y</th>\n",
              "      <th>z</th>\n",
              "    </tr>\n",
              "  </thead>\n",
              "  <tbody>\n",
              "    <tr>\n",
              "      <th>count</th>\n",
              "      <td>5.653053e+06</td>\n",
              "      <td>5.653053e+06</td>\n",
              "      <td>5.653053e+06</td>\n",
              "    </tr>\n",
              "    <tr>\n",
              "      <th>mean</th>\n",
              "      <td>1.499442e+00</td>\n",
              "      <td>1.483885e+00</td>\n",
              "      <td>2.484874e+00</td>\n",
              "    </tr>\n",
              "    <tr>\n",
              "      <th>std</th>\n",
              "      <td>4.657316e+00</td>\n",
              "      <td>6.262899e+00</td>\n",
              "      <td>5.800348e+00</td>\n",
              "    </tr>\n",
              "    <tr>\n",
              "      <th>min</th>\n",
              "      <td>-7.321000e+01</td>\n",
              "      <td>-7.840000e+01</td>\n",
              "      <td>-7.844000e+01</td>\n",
              "    </tr>\n",
              "    <tr>\n",
              "      <th>25%</th>\n",
              "      <td>-1.300000e+00</td>\n",
              "      <td>-1.790000e+00</td>\n",
              "      <td>-9.600000e-01</td>\n",
              "    </tr>\n",
              "    <tr>\n",
              "      <th>50%</th>\n",
              "      <td>7.100000e-01</td>\n",
              "      <td>2.130000e+00</td>\n",
              "      <td>3.500000e+00</td>\n",
              "    </tr>\n",
              "    <tr>\n",
              "      <th>75%</th>\n",
              "      <td>4.650000e+00</td>\n",
              "      <td>6.260000e+00</td>\n",
              "      <td>7.320000e+00</td>\n",
              "    </tr>\n",
              "    <tr>\n",
              "      <th>max</th>\n",
              "      <td>7.840000e+01</td>\n",
              "      <td>7.834000e+01</td>\n",
              "      <td>7.840000e+01</td>\n",
              "    </tr>\n",
              "  </tbody>\n",
              "</table>\n",
              "</div>"
            ],
            "text/plain": [
              "                  x             y             z\n",
              "count  5.653053e+06  5.653053e+06  5.653053e+06\n",
              "mean   1.499442e+00  1.483885e+00  2.484874e+00\n",
              "std    4.657316e+00  6.262899e+00  5.800348e+00\n",
              "min   -7.321000e+01 -7.840000e+01 -7.844000e+01\n",
              "25%   -1.300000e+00 -1.790000e+00 -9.600000e-01\n",
              "50%    7.100000e-01  2.130000e+00  3.500000e+00\n",
              "75%    4.650000e+00  6.260000e+00  7.320000e+00\n",
              "max    7.840000e+01  7.834000e+01  7.840000e+01"
            ]
          },
          "metadata": {
            "tags": []
          },
          "execution_count": 6
        }
      ]
    },
    {
      "cell_type": "markdown",
      "metadata": {
        "id": "tcg0HA6otu1X"
      },
      "source": [
        "### Part 2 - Number of Unique Sequences"
      ]
    },
    {
      "cell_type": "code",
      "metadata": {
        "id": "EVn38iY4vb3g"
      },
      "source": [
        "df['timestamp'] =  pd.to_datetime(df[\"timestamp\"])\n",
        "df_temp = df[['user','class','timestamp']]"
      ],
      "execution_count": 7,
      "outputs": []
    },
    {
      "cell_type": "code",
      "metadata": {
        "id": "wXwqQBG4vUej",
        "outputId": "894dbb37-b62d-4be6-81a3-eff8b45dde7b",
        "colab": {
          "base_uri": "https://localhost:8080/",
          "height": 139
        }
      },
      "source": [
        "start=time.time()\n",
        " # get time difference by Row[i] - Row[i-1]\n",
        "temp = (abs(df_temp['timestamp'][1:].reset_index(drop=True) - df_temp['timestamp'][:-1]) > timedelta(seconds = 10))\n",
        " # Changing mode\n",
        "temp = temp | (df_temp['class'][1:].reset_index(drop=True) != df_temp['class'][:-1])\n",
        "df_temp['gap'] = pd.concat([pd.DataFrame(data = [True]), temp  ] ).reset_index(drop=True)"
      ],
      "execution_count": 8,
      "outputs": [
        {
          "output_type": "stream",
          "text": [
            "/usr/local/lib/python3.6/dist-packages/ipykernel_launcher.py:6: SettingWithCopyWarning: \n",
            "A value is trying to be set on a copy of a slice from a DataFrame.\n",
            "Try using .loc[row_indexer,col_indexer] = value instead\n",
            "\n",
            "See the caveats in the documentation: https://pandas.pydata.org/pandas-docs/stable/user_guide/indexing.html#returning-a-view-versus-a-copy\n",
            "  \n"
          ],
          "name": "stderr"
        }
      ]
    },
    {
      "cell_type": "markdown",
      "metadata": {
        "id": "lOvJ8NijKLYz"
      },
      "source": [
        "Per user per trasportation mode, No. of Unique Sequences"
      ]
    },
    {
      "cell_type": "code",
      "metadata": {
        "id": "tNN2W4fyGaAJ",
        "outputId": "04dbd8ed-b6d0-4986-af19-05818ab0bc93",
        "colab": {
          "base_uri": "https://localhost:8080/",
          "height": 1000
        }
      },
      "source": [
        "# Grouping dataset based on \n",
        "df_temp2 = (df_temp.groupby(['user','class','gap']).count()).reset_index()\n",
        "# Findng no. of unique sequences\n",
        "df_temp2 = df_temp2[df_temp2.gap != False]\n",
        "# taking 3 columns for simplicity\n",
        "df_temp2 = df_temp2[['user','class','timestamp']]\n",
        "df_temp2 = df_temp2.rename(columns={\"timestamp\":\"Sequences\"}) \n",
        "df_temp2 = df_temp2.reset_index(drop=True).groupby([\"user\",\"class\",\"Sequences\"]).count() #dropping index\n",
        "pd.set_option('display.max_rows', len(df_temp2))\n",
        "display(df_temp2)\n",
        "pd.reset_option('display.max_rows')\n",
        "end=time.time()\n",
        "print(\"Time to run the code :\" ,end-start)"
      ],
      "execution_count": 9,
      "outputs": [
        {
          "output_type": "display_data",
          "data": {
            "text/html": [
              "<div>\n",
              "<style scoped>\n",
              "    .dataframe tbody tr th:only-of-type {\n",
              "        vertical-align: middle;\n",
              "    }\n",
              "\n",
              "    .dataframe tbody tr th {\n",
              "        vertical-align: top;\n",
              "    }\n",
              "\n",
              "    .dataframe thead th {\n",
              "        text-align: right;\n",
              "    }\n",
              "</style>\n",
              "<table border=\"1\" class=\"dataframe\">\n",
              "  <thead>\n",
              "    <tr style=\"text-align: right;\">\n",
              "      <th></th>\n",
              "      <th></th>\n",
              "      <th></th>\n",
              "    </tr>\n",
              "    <tr>\n",
              "      <th>user</th>\n",
              "      <th>class</th>\n",
              "      <th>Sequences</th>\n",
              "    </tr>\n",
              "  </thead>\n",
              "  <tbody>\n",
              "    <tr>\n",
              "      <th>a2d80ed662f34d32951eb1c6ed076c313e358b73</th>\n",
              "      <th>bus</th>\n",
              "      <th>13</th>\n",
              "    </tr>\n",
              "    <tr>\n",
              "      <th rowspan=\"2\" valign=\"top\">a526f3566e9c9024dfa7378eb4291d787a09fd37</th>\n",
              "      <th>car</th>\n",
              "      <th>15</th>\n",
              "    </tr>\n",
              "    <tr>\n",
              "      <th>walk</th>\n",
              "      <th>19</th>\n",
              "    </tr>\n",
              "    <tr>\n",
              "      <th rowspan=\"4\" valign=\"top\">a59868c6eb3645eedbb343ce8c336ec6f2ef2324</th>\n",
              "      <th>bike</th>\n",
              "      <th>39</th>\n",
              "    </tr>\n",
              "    <tr>\n",
              "      <th>bus</th>\n",
              "      <th>27</th>\n",
              "    </tr>\n",
              "    <tr>\n",
              "      <th>car</th>\n",
              "      <th>68</th>\n",
              "    </tr>\n",
              "    <tr>\n",
              "      <th>walk</th>\n",
              "      <th>12</th>\n",
              "    </tr>\n",
              "    <tr>\n",
              "      <th>a92dee88f61123f923dccec01eeecf1a81953b36</th>\n",
              "      <th>bus</th>\n",
              "      <th>4</th>\n",
              "    </tr>\n",
              "    <tr>\n",
              "      <th rowspan=\"2\" valign=\"top\">ac4c17afeb69b39169eb301ab592696a8f353976</th>\n",
              "      <th>car</th>\n",
              "      <th>20</th>\n",
              "    </tr>\n",
              "    <tr>\n",
              "      <th>walk</th>\n",
              "      <th>58</th>\n",
              "    </tr>\n",
              "    <tr>\n",
              "      <th rowspan=\"3\" valign=\"top\">adaaae1a67ea9e43abd60ba945eccda0cb8821e0</th>\n",
              "      <th>bus</th>\n",
              "      <th>22</th>\n",
              "    </tr>\n",
              "    <tr>\n",
              "      <th>car</th>\n",
              "      <th>17</th>\n",
              "    </tr>\n",
              "    <tr>\n",
              "      <th>walk</th>\n",
              "      <th>10</th>\n",
              "    </tr>\n",
              "    <tr>\n",
              "      <th>b138d165100ef60bc793cac143742eb5aea4d6ba</th>\n",
              "      <th>car</th>\n",
              "      <th>9</th>\n",
              "    </tr>\n",
              "    <tr>\n",
              "      <th rowspan=\"2\" valign=\"top\">b45157069942d01310c3e7b74034166717bb25f9</th>\n",
              "      <th>car</th>\n",
              "      <th>3</th>\n",
              "    </tr>\n",
              "    <tr>\n",
              "      <th>walk</th>\n",
              "      <th>2</th>\n",
              "    </tr>\n",
              "    <tr>\n",
              "      <th rowspan=\"2\" valign=\"top\">b7b165e5637b5a0226068d907748f4bbfc61a320</th>\n",
              "      <th>car</th>\n",
              "      <th>194</th>\n",
              "    </tr>\n",
              "    <tr>\n",
              "      <th>walk</th>\n",
              "      <th>10</th>\n",
              "    </tr>\n",
              "    <tr>\n",
              "      <th rowspan=\"2\" valign=\"top\">c453226e3616ae821cdcb38f38481c2a20f2482f</th>\n",
              "      <th>bike</th>\n",
              "      <th>169</th>\n",
              "    </tr>\n",
              "    <tr>\n",
              "      <th>bus</th>\n",
              "      <th>291</th>\n",
              "    </tr>\n",
              "    <tr>\n",
              "      <th rowspan=\"3\" valign=\"top\">c5702d34b238fe68683f818e82cd3a3cd8a16366</th>\n",
              "      <th>bike</th>\n",
              "      <th>15</th>\n",
              "    </tr>\n",
              "    <tr>\n",
              "      <th>bus</th>\n",
              "      <th>14</th>\n",
              "    </tr>\n",
              "    <tr>\n",
              "      <th>walk</th>\n",
              "      <th>129</th>\n",
              "    </tr>\n",
              "    <tr>\n",
              "      <th>ca7950f223a8037b897d0547075dc138f9e43b20</th>\n",
              "      <th>walk</th>\n",
              "      <th>3</th>\n",
              "    </tr>\n",
              "    <tr>\n",
              "      <th>cace4ec0999436917986b4fa6e9317262c897bc2</th>\n",
              "      <th>car</th>\n",
              "      <th>72</th>\n",
              "    </tr>\n",
              "    <tr>\n",
              "      <th>cbde60baea002b694ecf2a3ff2d95be16b00efe1</th>\n",
              "      <th>bus</th>\n",
              "      <th>4</th>\n",
              "    </tr>\n",
              "    <tr>\n",
              "      <th rowspan=\"2\" valign=\"top\">ce39f5d0705695fcd70a04ba6d84ac6beecd6f9c</th>\n",
              "      <th>bus</th>\n",
              "      <th>22</th>\n",
              "    </tr>\n",
              "    <tr>\n",
              "      <th>car</th>\n",
              "      <th>80</th>\n",
              "    </tr>\n",
              "    <tr>\n",
              "      <th rowspan=\"3\" valign=\"top\">d429974540bfd38c3367fe9f0c8682775ff4fa18</th>\n",
              "      <th>bus</th>\n",
              "      <th>6</th>\n",
              "    </tr>\n",
              "    <tr>\n",
              "      <th>car</th>\n",
              "      <th>132</th>\n",
              "    </tr>\n",
              "    <tr>\n",
              "      <th>walk</th>\n",
              "      <th>2</th>\n",
              "    </tr>\n",
              "    <tr>\n",
              "      <th rowspan=\"3\" valign=\"top\">d7a1230d94f91a32cc079809748e52e8a4a6a22f</th>\n",
              "      <th>bike</th>\n",
              "      <th>152</th>\n",
              "    </tr>\n",
              "    <tr>\n",
              "      <th>train</th>\n",
              "      <th>13</th>\n",
              "    </tr>\n",
              "    <tr>\n",
              "      <th>walk</th>\n",
              "      <th>6</th>\n",
              "    </tr>\n",
              "    <tr>\n",
              "      <th>d7dd12d83c81574137f858034b99f4cc83ab0718</th>\n",
              "      <th>car</th>\n",
              "      <th>147</th>\n",
              "    </tr>\n",
              "    <tr>\n",
              "      <th rowspan=\"2\" valign=\"top\">d8c047eaaee204b7b5cd71e2d67308b87b038ed3</th>\n",
              "      <th>car</th>\n",
              "      <th>12</th>\n",
              "    </tr>\n",
              "    <tr>\n",
              "      <th>walk</th>\n",
              "      <th>24</th>\n",
              "    </tr>\n",
              "    <tr>\n",
              "      <th rowspan=\"3\" valign=\"top\">dc0bdce306ec3b624fe0e6ecd1ffbd82cb970120</th>\n",
              "      <th>bike</th>\n",
              "      <th>115</th>\n",
              "    </tr>\n",
              "    <tr>\n",
              "      <th>car</th>\n",
              "      <th>32</th>\n",
              "    </tr>\n",
              "    <tr>\n",
              "      <th>walk</th>\n",
              "      <th>5</th>\n",
              "    </tr>\n",
              "    <tr>\n",
              "      <th rowspan=\"2\" valign=\"top\">dd82e3df4bebc74ed6b67877be79e29f401c16a3</th>\n",
              "      <th>car</th>\n",
              "      <th>68</th>\n",
              "    </tr>\n",
              "    <tr>\n",
              "      <th>walk</th>\n",
              "      <th>2</th>\n",
              "    </tr>\n",
              "    <tr>\n",
              "      <th rowspan=\"3\" valign=\"top\">dde95e125d89843f7032baa734ee4d34ec775aaf</th>\n",
              "      <th>bus</th>\n",
              "      <th>5</th>\n",
              "    </tr>\n",
              "    <tr>\n",
              "      <th>car</th>\n",
              "      <th>2</th>\n",
              "    </tr>\n",
              "    <tr>\n",
              "      <th>walk</th>\n",
              "      <th>8</th>\n",
              "    </tr>\n",
              "    <tr>\n",
              "      <th rowspan=\"2\" valign=\"top\">de9892b879c83ea3d24fb4560873107cc4e86d48</th>\n",
              "      <th>car</th>\n",
              "      <th>114</th>\n",
              "    </tr>\n",
              "    <tr>\n",
              "      <th>walk</th>\n",
              "      <th>36</th>\n",
              "    </tr>\n",
              "    <tr>\n",
              "      <th rowspan=\"3\" valign=\"top\">dfcfc0404691b73b69884073159f90843f2ac35b</th>\n",
              "      <th>bus</th>\n",
              "      <th>50</th>\n",
              "    </tr>\n",
              "    <tr>\n",
              "      <th>car</th>\n",
              "      <th>108</th>\n",
              "    </tr>\n",
              "    <tr>\n",
              "      <th>walk</th>\n",
              "      <th>155</th>\n",
              "    </tr>\n",
              "    <tr>\n",
              "      <th rowspan=\"2\" valign=\"top\">e429a95c532f1117130c11e4a18379d84fa4ffa9</th>\n",
              "      <th>bus</th>\n",
              "      <th>40</th>\n",
              "    </tr>\n",
              "    <tr>\n",
              "      <th>car</th>\n",
              "      <th>39</th>\n",
              "    </tr>\n",
              "    <tr>\n",
              "      <th rowspan=\"3\" valign=\"top\">eb9e7854290fd6ea9ebaf448b640fc1f1dbeb076</th>\n",
              "      <th>bus</th>\n",
              "      <th>2</th>\n",
              "    </tr>\n",
              "    <tr>\n",
              "      <th>train</th>\n",
              "      <th>1</th>\n",
              "    </tr>\n",
              "    <tr>\n",
              "      <th>walk</th>\n",
              "      <th>2</th>\n",
              "    </tr>\n",
              "    <tr>\n",
              "      <th rowspan=\"3\" valign=\"top\">ecfb0929250fb6dda66a4065441230ab27f094e5</th>\n",
              "      <th>car</th>\n",
              "      <th>158</th>\n",
              "    </tr>\n",
              "    <tr>\n",
              "      <th>e-bike</th>\n",
              "      <th>16</th>\n",
              "    </tr>\n",
              "    <tr>\n",
              "      <th>train</th>\n",
              "      <th>1</th>\n",
              "    </tr>\n",
              "    <tr>\n",
              "      <th rowspan=\"3\" valign=\"top\">ed623d28c1e0071632a6110b8f8ed93f8af78b99</th>\n",
              "      <th>bus</th>\n",
              "      <th>10</th>\n",
              "    </tr>\n",
              "    <tr>\n",
              "      <th>car</th>\n",
              "      <th>117</th>\n",
              "    </tr>\n",
              "    <tr>\n",
              "      <th>walk</th>\n",
              "      <th>4</th>\n",
              "    </tr>\n",
              "    <tr>\n",
              "      <th rowspan=\"3\" valign=\"top\">f1b7331b66e404c11eebb22933e733117bbb12c9</th>\n",
              "      <th>bike</th>\n",
              "      <th>172</th>\n",
              "    </tr>\n",
              "    <tr>\n",
              "      <th>car</th>\n",
              "      <th>139</th>\n",
              "    </tr>\n",
              "    <tr>\n",
              "      <th>walk</th>\n",
              "      <th>73</th>\n",
              "    </tr>\n",
              "    <tr>\n",
              "      <th rowspan=\"2\" valign=\"top\">f5edd999397145a2ec1b244226fc83f99631760c</th>\n",
              "      <th>bus</th>\n",
              "      <th>16</th>\n",
              "    </tr>\n",
              "    <tr>\n",
              "      <th>walk</th>\n",
              "      <th>13</th>\n",
              "    </tr>\n",
              "    <tr>\n",
              "      <th>f7ae1ce141c26db40ea8b090fb568a0c965310aa</th>\n",
              "      <th>car</th>\n",
              "      <th>2</th>\n",
              "    </tr>\n",
              "    <tr>\n",
              "      <th rowspan=\"3\" valign=\"top\">faae5be800be2dfa897eea0bd2e5988cd53c4ec0</th>\n",
              "      <th>bike</th>\n",
              "      <th>136</th>\n",
              "    </tr>\n",
              "    <tr>\n",
              "      <th>car</th>\n",
              "      <th>10</th>\n",
              "    </tr>\n",
              "    <tr>\n",
              "      <th>walk</th>\n",
              "      <th>35</th>\n",
              "    </tr>\n",
              "  </tbody>\n",
              "</table>\n",
              "</div>"
            ],
            "text/plain": [
              "Empty DataFrame\n",
              "Columns: []\n",
              "Index: [(a2d80ed662f34d32951eb1c6ed076c313e358b73, bus, 13), (a526f3566e9c9024dfa7378eb4291d787a09fd37, car, 15), (a526f3566e9c9024dfa7378eb4291d787a09fd37, walk, 19), (a59868c6eb3645eedbb343ce8c336ec6f2ef2324, bike, 39), (a59868c6eb3645eedbb343ce8c336ec6f2ef2324, bus, 27), (a59868c6eb3645eedbb343ce8c336ec6f2ef2324, car, 68), (a59868c6eb3645eedbb343ce8c336ec6f2ef2324, walk, 12), (a92dee88f61123f923dccec01eeecf1a81953b36, bus, 4), (ac4c17afeb69b39169eb301ab592696a8f353976, car, 20), (ac4c17afeb69b39169eb301ab592696a8f353976, walk, 58), (adaaae1a67ea9e43abd60ba945eccda0cb8821e0, bus, 22), (adaaae1a67ea9e43abd60ba945eccda0cb8821e0, car, 17), (adaaae1a67ea9e43abd60ba945eccda0cb8821e0, walk, 10), (b138d165100ef60bc793cac143742eb5aea4d6ba, car, 9), (b45157069942d01310c3e7b74034166717bb25f9, car, 3), (b45157069942d01310c3e7b74034166717bb25f9, walk, 2), (b7b165e5637b5a0226068d907748f4bbfc61a320, car, 194), (b7b165e5637b5a0226068d907748f4bbfc61a320, walk, 10), (c453226e3616ae821cdcb38f38481c2a20f2482f, bike, 169), (c453226e3616ae821cdcb38f38481c2a20f2482f, bus, 291), (c5702d34b238fe68683f818e82cd3a3cd8a16366, bike, 15), (c5702d34b238fe68683f818e82cd3a3cd8a16366, bus, 14), (c5702d34b238fe68683f818e82cd3a3cd8a16366, walk, 129), (ca7950f223a8037b897d0547075dc138f9e43b20, walk, 3), (cace4ec0999436917986b4fa6e9317262c897bc2, car, 72), (cbde60baea002b694ecf2a3ff2d95be16b00efe1, bus, 4), (ce39f5d0705695fcd70a04ba6d84ac6beecd6f9c, bus, 22), (ce39f5d0705695fcd70a04ba6d84ac6beecd6f9c, car, 80), (d429974540bfd38c3367fe9f0c8682775ff4fa18, bus, 6), (d429974540bfd38c3367fe9f0c8682775ff4fa18, car, 132), (d429974540bfd38c3367fe9f0c8682775ff4fa18, walk, 2), (d7a1230d94f91a32cc079809748e52e8a4a6a22f, bike, 152), (d7a1230d94f91a32cc079809748e52e8a4a6a22f, train, 13), (d7a1230d94f91a32cc079809748e52e8a4a6a22f, walk, 6), (d7dd12d83c81574137f858034b99f4cc83ab0718, car, 147), (d8c047eaaee204b7b5cd71e2d67308b87b038ed3, car, 12), (d8c047eaaee204b7b5cd71e2d67308b87b038ed3, walk, 24), (dc0bdce306ec3b624fe0e6ecd1ffbd82cb970120, bike, 115), (dc0bdce306ec3b624fe0e6ecd1ffbd82cb970120, car, 32), (dc0bdce306ec3b624fe0e6ecd1ffbd82cb970120, walk, 5), (dd82e3df4bebc74ed6b67877be79e29f401c16a3, car, 68), (dd82e3df4bebc74ed6b67877be79e29f401c16a3, walk, 2), (dde95e125d89843f7032baa734ee4d34ec775aaf, bus, 5), (dde95e125d89843f7032baa734ee4d34ec775aaf, car, 2), (dde95e125d89843f7032baa734ee4d34ec775aaf, walk, 8), (de9892b879c83ea3d24fb4560873107cc4e86d48, car, 114), (de9892b879c83ea3d24fb4560873107cc4e86d48, walk, 36), (dfcfc0404691b73b69884073159f90843f2ac35b, bus, 50), (dfcfc0404691b73b69884073159f90843f2ac35b, car, 108), (dfcfc0404691b73b69884073159f90843f2ac35b, walk, 155), (e429a95c532f1117130c11e4a18379d84fa4ffa9, bus, 40), (e429a95c532f1117130c11e4a18379d84fa4ffa9, car, 39), (eb9e7854290fd6ea9ebaf448b640fc1f1dbeb076, bus, 2), (eb9e7854290fd6ea9ebaf448b640fc1f1dbeb076, train, 1), (eb9e7854290fd6ea9ebaf448b640fc1f1dbeb076, walk, 2), (ecfb0929250fb6dda66a4065441230ab27f094e5, car, 158), (ecfb0929250fb6dda66a4065441230ab27f094e5, e-bike, 16), (ecfb0929250fb6dda66a4065441230ab27f094e5, train, 1), (ed623d28c1e0071632a6110b8f8ed93f8af78b99, bus, 10), (ed623d28c1e0071632a6110b8f8ed93f8af78b99, car, 117), (ed623d28c1e0071632a6110b8f8ed93f8af78b99, walk, 4), (f1b7331b66e404c11eebb22933e733117bbb12c9, bike, 172), (f1b7331b66e404c11eebb22933e733117bbb12c9, car, 139), (f1b7331b66e404c11eebb22933e733117bbb12c9, walk, 73), (f5edd999397145a2ec1b244226fc83f99631760c, bus, 16), (f5edd999397145a2ec1b244226fc83f99631760c, walk, 13), (f7ae1ce141c26db40ea8b090fb568a0c965310aa, car, 2), (faae5be800be2dfa897eea0bd2e5988cd53c4ec0, bike, 136), (faae5be800be2dfa897eea0bd2e5988cd53c4ec0, car, 10), (faae5be800be2dfa897eea0bd2e5988cd53c4ec0, walk, 35)]"
            ]
          },
          "metadata": {
            "tags": []
          }
        },
        {
          "output_type": "stream",
          "text": [
            "Time to run the code : 1.8916699886322021\n"
          ],
          "name": "stdout"
        }
      ]
    },
    {
      "cell_type": "markdown",
      "metadata": {
        "id": "OFtlc62X-8nt"
      },
      "source": [
        "### Part 3 - Time Window Partition"
      ]
    },
    {
      "cell_type": "code",
      "metadata": {
        "id": "PtRPmMj9wwC2"
      },
      "source": [
        "df = pd.read_csv(DATASET_DIR)\n",
        "df['timestamp'] =  df['timestamp'].astype('datetime64[s]')"
      ],
      "execution_count": 10,
      "outputs": []
    },
    {
      "cell_type": "code",
      "metadata": {
        "id": "SPBMwbDdGmzj"
      },
      "source": [
        "start=time.time()\n",
        "def helper_func(temp):\n",
        "    temp = temp[\"timestamp\"]\n",
        "    temp = pd.DataFrame(data = temp).set_index(\"timestamp\")\n",
        "    temp[\"val\"] = np.ones(len(temp))\n",
        "    temp = temp.groupby(temp.index).count()\n",
        "    temp = temp.resample('5s', origin='start').count()\n",
        "    return len(temp[temp.val != 0])"
      ],
      "execution_count": 11,
      "outputs": []
    },
    {
      "cell_type": "code",
      "metadata": {
        "id": "lkpHRgUmDPy9",
        "outputId": "ccb08b07-fee8-48aa-e743-63176cdfd682",
        "colab": {
          "base_uri": "https://localhost:8080/",
          "height": 459
        }
      },
      "source": [
        "# preprocessing data \n",
        "df_temp = df[['user','class','timestamp']]\n",
        "temp = (abs(df_temp['timestamp'][1:].reset_index(drop=True) - df_temp['timestamp'][:-1]) > timedelta(seconds = 10))\n",
        "df_temp['gap'] = pd.concat([pd.DataFrame(data = [True]), temp  ] ).reset_index(drop=True)\n",
        "df_temp2 = df_temp[df_temp[\"gap\"] == True]\n",
        "df_temp2 = (df_temp2.groupby(['user','class','gap']).apply(lambda x : x)).reset_index().drop(['gap'], axis=1)\n",
        "df_temp2[\"end_timestamp\"] = df_temp.reset_index()[\"timestamp\"].iloc[(df_temp2[\"index\"]-1).to_numpy()[1:]].reset_index(drop=True)\n",
        "df_temp2[\"end_timestamp\"].iloc[-1] = df[\"timestamp\"].iloc[-1]\n",
        "df_temp2[\">than5sec\"] = ((df_temp2[\"end_timestamp\"] - df_temp2[\"timestamp\"])  >= timedelta(seconds = 5))\n",
        "df_temp2[\"start_index\"] = (df_temp2[\"index\"].to_numpy())\n",
        "df_temp2[\"end_index\"] = np.concatenate((((df_temp2[\"index\"]-1).to_numpy()[1:]),[len(df)-1]),axis = 0)\n",
        "# starting and ending of each sequence\n",
        "df_temp3 = df_temp2[df_temp2[\">than5sec\"] == True] \n",
        "a = list(range(df_temp3[\"start_index\"].iloc[0] , df_temp3[\"end_index\"].iloc[0]-df_temp3[\"start_index\"].iloc[0]+1 ))\n",
        "for i in range(1,len(df_temp3)):\n",
        "    a.extend(list(range(df_temp3[\"start_index\"].iloc[i] , df_temp3[\"end_index\"].iloc[i] +1) ))\n",
        "df6 = df.iloc[a]\n",
        "\n",
        "df_temp3 = pd.DataFrame(df6.groupby([\"user\",\"class\"]).apply(helper_func))\n",
        "df_temp3 = df_temp3.reset_index().rename(columns={0:\"#5_SecWindowSequences\"}).groupby([\"user\",\"class\",\"#5_SecWindowSequences\"]).count()\n",
        "df_temp3 = df_temp3.reset_index().groupby([\"class\"]).sum().reset_index()\n",
        "display(df_temp3)\n",
        "end=time.time()\n",
        "print(\"Time to run the code :\" ,end-start)"
      ],
      "execution_count": 14,
      "outputs": [
        {
          "output_type": "stream",
          "text": [
            "/usr/local/lib/python3.6/dist-packages/ipykernel_launcher.py:4: SettingWithCopyWarning: \n",
            "A value is trying to be set on a copy of a slice from a DataFrame.\n",
            "Try using .loc[row_indexer,col_indexer] = value instead\n",
            "\n",
            "See the caveats in the documentation: https://pandas.pydata.org/pandas-docs/stable/user_guide/indexing.html#returning-a-view-versus-a-copy\n",
            "  after removing the cwd from sys.path.\n",
            "/usr/local/lib/python3.6/dist-packages/pandas/core/indexing.py:670: SettingWithCopyWarning: \n",
            "A value is trying to be set on a copy of a slice from a DataFrame\n",
            "\n",
            "See the caveats in the documentation: https://pandas.pydata.org/pandas-docs/stable/user_guide/indexing.html#returning-a-view-versus-a-copy\n",
            "  iloc._setitem_with_indexer(indexer, value)\n"
          ],
          "name": "stderr"
        },
        {
          "output_type": "display_data",
          "data": {
            "text/html": [
              "<div>\n",
              "<style scoped>\n",
              "    .dataframe tbody tr th:only-of-type {\n",
              "        vertical-align: middle;\n",
              "    }\n",
              "\n",
              "    .dataframe tbody tr th {\n",
              "        vertical-align: top;\n",
              "    }\n",
              "\n",
              "    .dataframe thead th {\n",
              "        text-align: right;\n",
              "    }\n",
              "</style>\n",
              "<table border=\"1\" class=\"dataframe\">\n",
              "  <thead>\n",
              "    <tr style=\"text-align: right;\">\n",
              "      <th></th>\n",
              "      <th>class</th>\n",
              "      <th>#5_SecWindowSequences</th>\n",
              "    </tr>\n",
              "  </thead>\n",
              "  <tbody>\n",
              "    <tr>\n",
              "      <th>0</th>\n",
              "      <td>bike</td>\n",
              "      <td>2958</td>\n",
              "    </tr>\n",
              "    <tr>\n",
              "      <th>1</th>\n",
              "      <td>bus</td>\n",
              "      <td>10543</td>\n",
              "    </tr>\n",
              "    <tr>\n",
              "      <th>2</th>\n",
              "      <td>car</td>\n",
              "      <td>20419</td>\n",
              "    </tr>\n",
              "    <tr>\n",
              "      <th>3</th>\n",
              "      <td>e-bike</td>\n",
              "      <td>78</td>\n",
              "    </tr>\n",
              "    <tr>\n",
              "      <th>4</th>\n",
              "      <td>train</td>\n",
              "      <td>594</td>\n",
              "    </tr>\n",
              "    <tr>\n",
              "      <th>5</th>\n",
              "      <td>walk</td>\n",
              "      <td>5825</td>\n",
              "    </tr>\n",
              "  </tbody>\n",
              "</table>\n",
              "</div>"
            ],
            "text/plain": [
              "    class  #5_SecWindowSequences\n",
              "0    bike                   2958\n",
              "1     bus                  10543\n",
              "2     car                  20419\n",
              "3  e-bike                     78\n",
              "4   train                    594\n",
              "5    walk                   5825"
            ]
          },
          "metadata": {
            "tags": []
          }
        },
        {
          "output_type": "stream",
          "text": [
            "Time to run the code : 38.75357675552368\n"
          ],
          "name": "stdout"
        }
      ]
    },
    {
      "cell_type": "markdown",
      "metadata": {
        "id": "3Jh_v2XKPq_h"
      },
      "source": [
        "### Part 4 - Feature Engineering"
      ]
    },
    {
      "cell_type": "markdown",
      "metadata": {
        "id": "O3h2pmE3BR2f"
      },
      "source": [
        "#### Extracting statistical features"
      ]
    },
    {
      "cell_type": "code",
      "metadata": {
        "id": "XOGhm7Q6G-TX"
      },
      "source": [
        "def feature_extraction(temp):\n",
        "    return temp.set_index(\"timestamp\").resample('5s', origin='start').agg({'x':['mean','max','min','std'],'y':['mean','max','min','std'],'z':['mean','max','min','std']})"
      ],
      "execution_count": 15,
      "outputs": []
    },
    {
      "cell_type": "code",
      "metadata": {
        "id": "2q6mQ-BeAACS",
        "outputId": "67f654d6-9f68-4725-fa1a-5e3deaa0cae7",
        "colab": {
          "base_uri": "https://localhost:8080/",
          "height": 34
        }
      },
      "source": [
        "df_temp3 = pd.DataFrame(df6.groupby([\"user\",\"class\"]).apply(feature_extraction)).reset_index().dropna()\n",
        "df_temp3.columns = [''.join(col).strip() for col in df_temp3.columns.values]\n",
        "df_temp3.head()\n",
        "print(df_temp3.shape)"
      ],
      "execution_count": 16,
      "outputs": [
        {
          "output_type": "stream",
          "text": [
            "(40366, 15)\n"
          ],
          "name": "stdout"
        }
      ]
    },
    {
      "cell_type": "markdown",
      "metadata": {
        "id": "FPn8Yfi5BMQi"
      },
      "source": [
        "#### Box Plots"
      ]
    },
    {
      "cell_type": "code",
      "metadata": {
        "id": "iSpea2TSBKm8",
        "outputId": "02aff738-f07b-4a67-ee18-fbf90190a7bd",
        "colab": {
          "base_uri": "https://localhost:8080/",
          "height": 1000
        }
      },
      "source": [
        "# Box Plots\n",
        "fig, axes = plt.subplots(nrows=12, ncols=1, figsize=(20,12*12))\n",
        "for i in range(3,15):\n",
        "    sns.boxplot(x=df_temp3[\"class\"], y=df_temp3.iloc[:,i], data=df_temp3, ax=axes[i-3])"
      ],
      "execution_count": 34,
      "outputs": [
        {
          "output_type": "display_data",
          "data": {
            "image/png": "[encoded data removed]",
            "text/plain": [
              "<Figure size 1440x10368 with 12 Axes>"
            ]
          },
          "metadata": {
            "tags": [],
            "needs_background": "light"
          }
        }
      ]
    },
    {
      "cell_type": "markdown",
      "metadata": {
        "id": "hyW5-SOFPxD2"
      },
      "source": [
        "### Part 5 - Creating Balanced Dataset"
      ]
    },
    {
      "cell_type": "code",
      "metadata": {
        "id": "-rDkn6N7885v",
        "outputId": "e08c32dd-ac8e-48fe-bc4d-f661a86a49ad",
        "colab": {
          "base_uri": "https://localhost:8080/",
          "height": 252
        }
      },
      "source": [
        "# Choosing 78 rows from each mode randomly\n",
        "MinDataPoints = min(df_temp3.groupby(['class']).apply(lambda x: len(x)))\n",
        "print(\"Minimum Data Points in any Transportatation Mode => \", MinDataPoints)\n",
        "\n",
        "def fun2(temp):\n",
        "    return temp.sample(n = 78) \n",
        "df_new = df_temp3.groupby([\"class\"]).apply(fun2)\n",
        "df_new =  df_new.reset_index(drop=True).iloc[:,1:].drop('timestamp',axis = 1).rename(columns={'class':'target'})\n",
        "pd.DataFrame(df_new.groupby([\"target\"]).apply(lambda x:len(x))).rename(columns={0:\"#DataPoints\"}).reset_index()"
      ],
      "execution_count": 18,
      "outputs": [
        {
          "output_type": "stream",
          "text": [
            "Minimum Data Points in any Transportatation Mode =>  78\n"
          ],
          "name": "stdout"
        },
        {
          "output_type": "execute_result",
          "data": {
            "text/html": [
              "<div>\n",
              "<style scoped>\n",
              "    .dataframe tbody tr th:only-of-type {\n",
              "        vertical-align: middle;\n",
              "    }\n",
              "\n",
              "    .dataframe tbody tr th {\n",
              "        vertical-align: top;\n",
              "    }\n",
              "\n",
              "    .dataframe thead th {\n",
              "        text-align: right;\n",
              "    }\n",
              "</style>\n",
              "<table border=\"1\" class=\"dataframe\">\n",
              "  <thead>\n",
              "    <tr style=\"text-align: right;\">\n",
              "      <th></th>\n",
              "      <th>target</th>\n",
              "      <th>#DataPoints</th>\n",
              "    </tr>\n",
              "  </thead>\n",
              "  <tbody>\n",
              "    <tr>\n",
              "      <th>0</th>\n",
              "      <td>bike</td>\n",
              "      <td>78</td>\n",
              "    </tr>\n",
              "    <tr>\n",
              "      <th>1</th>\n",
              "      <td>bus</td>\n",
              "      <td>78</td>\n",
              "    </tr>\n",
              "    <tr>\n",
              "      <th>2</th>\n",
              "      <td>car</td>\n",
              "      <td>78</td>\n",
              "    </tr>\n",
              "    <tr>\n",
              "      <th>3</th>\n",
              "      <td>e-bike</td>\n",
              "      <td>78</td>\n",
              "    </tr>\n",
              "    <tr>\n",
              "      <th>4</th>\n",
              "      <td>train</td>\n",
              "      <td>78</td>\n",
              "    </tr>\n",
              "    <tr>\n",
              "      <th>5</th>\n",
              "      <td>walk</td>\n",
              "      <td>78</td>\n",
              "    </tr>\n",
              "  </tbody>\n",
              "</table>\n",
              "</div>"
            ],
            "text/plain": [
              "   target  #DataPoints\n",
              "0    bike           78\n",
              "1     bus           78\n",
              "2     car           78\n",
              "3  e-bike           78\n",
              "4   train           78\n",
              "5    walk           78"
            ]
          },
          "metadata": {
            "tags": []
          },
          "execution_count": 18
        }
      ]
    },
    {
      "cell_type": "code",
      "metadata": {
        "id": "LljITuj-DywB",
        "outputId": "d4e09a9f-e837-43d8-9ab1-be4a87e21dcc",
        "colab": {
          "base_uri": "https://localhost:8080/",
          "height": 34
        }
      },
      "source": [
        "df_new.shape"
      ],
      "execution_count": 19,
      "outputs": [
        {
          "output_type": "execute_result",
          "data": {
            "text/plain": [
              "(468, 13)"
            ]
          },
          "metadata": {
            "tags": []
          },
          "execution_count": 19
        }
      ]
    },
    {
      "cell_type": "markdown",
      "metadata": {
        "id": "Esn1uxnTJJzq"
      },
      "source": [
        "### part 6 - Splitting dataset"
      ]
    },
    {
      "cell_type": "markdown",
      "metadata": {
        "id": "uAhLTWCnSnHq"
      },
      "source": [
        "#### Splitting"
      ]
    },
    {
      "cell_type": "code",
      "metadata": {
        "id": "fflEIgRDTK1V"
      },
      "source": [
        "X = df_new.drop('target', axis=1)\n",
        "Y = df_new['target']"
      ],
      "execution_count": 20,
      "outputs": []
    },
    {
      "cell_type": "code",
      "metadata": {
        "id": "_UxrAo05SmPg"
      },
      "source": [
        "from sklearn.model_selection import train_test_split \n",
        "\n",
        "x, x_test, y, y_test = train_test_split (X, Y, test_size=0.2, train_size=0.8)\n",
        "x_train, x_cv, y_train, y_cv = train_test_split(x,y, test_size = 0.25, train_size =0.75)"
      ],
      "execution_count": 21,
      "outputs": []
    },
    {
      "cell_type": "code",
      "metadata": {
        "id": "1eKmGM8GT6HY",
        "outputId": "60f00916-47f4-457a-f98a-b7a01b5b224c",
        "colab": {
          "base_uri": "https://localhost:8080/",
          "height": 85
        }
      },
      "source": [
        "print('No. of Datapoints:')\n",
        "print('Training = ', len(x_train))\n",
        "print('Cross Validation = ', len(x_cv))\n",
        "print('Testing = ', len(x_test))"
      ],
      "execution_count": 22,
      "outputs": [
        {
          "output_type": "stream",
          "text": [
            "No. of Datapoints:\n",
            "Training =  280\n",
            "Cross Validation =  94\n",
            "Testing =  94\n"
          ],
          "name": "stdout"
        }
      ]
    },
    {
      "cell_type": "markdown",
      "metadata": {
        "id": "cs_7on7RfbIi"
      },
      "source": [
        "### Part 7 - ML Model"
      ]
    },
    {
      "cell_type": "markdown",
      "metadata": {
        "id": "VgxlNwl9b0FB"
      },
      "source": [
        "#### LogRegr., SVM, decision tree and random forest classifier"
      ]
    },
    {
      "cell_type": "code",
      "metadata": {
        "id": "HB61mxfST8vP"
      },
      "source": [
        "# Turn the values into an array for feeding the classification algorithms.\n",
        "x = x.values\n",
        "x_train = x_train.values\n",
        "x_test = x_test.values\n",
        "x_cv = x_cv.values\n",
        "y = y.values\n",
        "y_train = y_train.values\n",
        "y_test = y_test.values\n",
        "y_cv = y_cv.values"
      ],
      "execution_count": 23,
      "outputs": []
    },
    {
      "cell_type": "code",
      "metadata": {
        "id": "UIV0efgnVcQR"
      },
      "source": [
        "from sklearn.linear_model import LogisticRegression\n",
        "from sklearn.svm import SVC\n",
        "from sklearn.tree import DecisionTreeClassifier\n",
        "from sklearn.ensemble import RandomForestClassifier\n",
        "from sklearn.metrics import precision_score, recall_score, f1_score, roc_auc_score, accuracy_score, classification_report, confusion_matrix\n",
        "from sklearn.model_selection import cross_val_score, KFold\n",
        "from collections import Counter\n",
        "from sklearn.pipeline import make_pipeline\n",
        "import collections\n",
        "import warnings\n",
        "warnings.filterwarnings(\"ignore\")"
      ],
      "execution_count": 24,
      "outputs": []
    },
    {
      "cell_type": "code",
      "metadata": {
        "id": "esCnFkEcV7rm",
        "outputId": "00efe207-faf2-40fc-e6e1-55cfdb49e351",
        "colab": {
          "base_uri": "https://localhost:8080/",
          "height": 1000
        }
      },
      "source": [
        "classifiers = {\n",
        "    \"LogisiticRegression\": LogisticRegression(),\n",
        "    \"Support Vector Classifier\": SVC(kernel='linear', C=1),\n",
        "    \"Decision Tree Classifier\": DecisionTreeClassifier(),\n",
        "    \"Random Forest Classifier\": RandomForestClassifier()\n",
        "}\n",
        "\n",
        "classrep = []\n",
        "confusionmatrices = {}\n",
        "predicts = {}\n",
        "kfold = KFold(n_splits=4, random_state=42)\n",
        "for key, classifier in classifiers.items():\n",
        "    classifier.fit(x_train, y_train)\n",
        "    results = cross_val_score(classifier, x, y, cv = kfold)\n",
        "    print(\"Classifier: \"+classifier.__class__.__name__+\" has a cross val score Accuracy: %.3f%% (%.3f%%)\" % (results.mean()*100.0, results.std()*100.0))\n",
        "    predictions = classifier.predict(x_test)\n",
        "    print('Classification Report of ',key,':\\n',classification_report(y_test, predictions))\n",
        "    predicts[key] = predictions\n",
        "    classrep.append(classification_report(y_test, predictions));\n",
        "    confusionmatrices[key] = confusion_matrix(y_test,predictions);"
      ],
      "execution_count": 25,
      "outputs": [
        {
          "output_type": "stream",
          "text": [
            "Classifier: LogisticRegression has a cross val score Accuracy: 65.763% (2.441%)\n",
            "Classification Report of  LogisiticRegression :\n",
            "               precision    recall  f1-score   support\n",
            "\n",
            "        bike       0.47      0.39      0.42        18\n",
            "         bus       0.35      0.32      0.33        19\n",
            "         car       0.67      0.50      0.57        20\n",
            "      e-bike       0.71      0.94      0.81        18\n",
            "       train       0.67      1.00      0.80         8\n",
            "        walk       0.45      0.45      0.45        11\n",
            "\n",
            "    accuracy                           0.56        94\n",
            "   macro avg       0.55      0.60      0.57        94\n",
            "weighted avg       0.55      0.56      0.55        94\n",
            "\n",
            "Classifier: SVC has a cross val score Accuracy: 68.706% (2.451%)\n",
            "Classification Report of  Support Vector Classifier :\n",
            "               precision    recall  f1-score   support\n",
            "\n",
            "        bike       0.42      0.44      0.43        18\n",
            "         bus       0.47      0.47      0.47        19\n",
            "         car       0.62      0.50      0.56        20\n",
            "      e-bike       0.77      0.94      0.85        18\n",
            "       train       0.89      1.00      0.94         8\n",
            "        walk       0.33      0.27      0.30        11\n",
            "\n",
            "    accuracy                           0.59        94\n",
            "   macro avg       0.59      0.61      0.59        94\n",
            "weighted avg       0.57      0.59      0.57        94\n",
            "\n",
            "Classifier: DecisionTreeClassifier has a cross val score Accuracy: 59.326% (6.660%)\n",
            "Classification Report of  Decision Tree Classifier :\n",
            "               precision    recall  f1-score   support\n",
            "\n",
            "        bike       0.50      0.50      0.50        18\n",
            "         bus       0.47      0.42      0.44        19\n",
            "         car       0.57      0.60      0.59        20\n",
            "      e-bike       0.85      0.94      0.89        18\n",
            "       train       0.83      0.62      0.71         8\n",
            "        walk       0.58      0.64      0.61        11\n",
            "\n",
            "    accuracy                           0.62        94\n",
            "   macro avg       0.63      0.62      0.62        94\n",
            "weighted avg       0.61      0.62      0.61        94\n",
            "\n",
            "Classifier: RandomForestClassifier has a cross val score Accuracy: 76.733% (2.917%)\n",
            "Classification Report of  Random Forest Classifier :\n",
            "               precision    recall  f1-score   support\n",
            "\n",
            "        bike       0.56      0.56      0.56        18\n",
            "         bus       0.71      0.53      0.61        19\n",
            "         car       0.71      0.75      0.73        20\n",
            "      e-bike       0.85      0.94      0.89        18\n",
            "       train       0.89      1.00      0.94         8\n",
            "        walk       0.67      0.73      0.70        11\n",
            "\n",
            "    accuracy                           0.72        94\n",
            "   macro avg       0.73      0.75      0.74        94\n",
            "weighted avg       0.72      0.72      0.72        94\n",
            "\n"
          ],
          "name": "stdout"
        }
      ]
    },
    {
      "cell_type": "markdown",
      "metadata": {
        "id": "re8J2eQMb6tj"
      },
      "source": [
        "#### Artificial Neural Network"
      ]
    },
    {
      "cell_type": "code",
      "metadata": {
        "id": "IUkD7r_WdaWs"
      },
      "source": [
        "# Implementing ANN\n",
        "# multi-class classification with Keras\n",
        "from keras.models import Sequential\n",
        "from keras.layers import Dense\n",
        "from keras.wrappers.scikit_learn import KerasClassifier\n",
        "from keras.utils import np_utils\n",
        "from sklearn.model_selection import cross_val_score\n",
        "from sklearn.model_selection import KFold\n",
        "from sklearn.preprocessing import LabelEncoder\n",
        "from sklearn.pipeline import Pipeline"
      ],
      "execution_count": 26,
      "outputs": []
    },
    {
      "cell_type": "code",
      "metadata": {
        "id": "kud0Jw5WoIcR"
      },
      "source": [
        "X = df_new.drop('target', axis=1)\n",
        "Y = df_new['target']"
      ],
      "execution_count": 27,
      "outputs": []
    },
    {
      "cell_type": "code",
      "metadata": {
        "id": "H4arXpQiExkN"
      },
      "source": [
        "encoder = LabelEncoder()\n",
        "encoder.fit(Y)\n",
        "encoded_Y = encoder.transform(Y)\n",
        "# convert integers to dummy variables (i.e. one hot encoded)\n",
        "dummy_y = np_utils.to_categorical(encoded_Y)"
      ],
      "execution_count": 28,
      "outputs": []
    },
    {
      "cell_type": "code",
      "metadata": {
        "id": "ItTmuLv0oIcX"
      },
      "source": [
        "from sklearn.model_selection import train_test_split \n",
        "\n",
        "x, x_test, y, y_test = train_test_split (X, dummy_y, test_size=0.2, train_size=0.8)"
      ],
      "execution_count": 29,
      "outputs": []
    },
    {
      "cell_type": "code",
      "metadata": {
        "id": "FKBTHeqsz-ch",
        "outputId": "f5a83579-52ef-4d06-8c3e-5f25fdfd7ec7",
        "colab": {
          "base_uri": "https://localhost:8080/",
          "height": 51
        }
      },
      "source": [
        "print(x.shape)\n",
        "print(y.shape)"
      ],
      "execution_count": 30,
      "outputs": [
        {
          "output_type": "stream",
          "text": [
            "(374, 12)\n",
            "(374, 6)\n"
          ],
          "name": "stdout"
        }
      ]
    },
    {
      "cell_type": "code",
      "metadata": {
        "id": "gU7WNaymz-cp"
      },
      "source": [
        "n_inputs = x.shape[1]\n",
        "y_out = y.shape[1]\n",
        "\n",
        "# Defining Model\n",
        "def baseline_model():\n",
        "    model = Sequential()\n",
        "    model.add(Dense(n_inputs, input_shape=(n_inputs, ), activation='relu'))\n",
        "    model.add(Dense(32, activation='relu'))\n",
        "    model.add(Dense(y_out, activation='softmax'))\n",
        "    # Compile model\n",
        "    model.compile(loss='categorical_crossentropy', optimizer='adam', metrics=['accuracy'])\n",
        "    return model"
      ],
      "execution_count": 31,
      "outputs": []
    },
    {
      "cell_type": "code",
      "metadata": {
        "id": "ucItUJINz-cr",
        "outputId": "35b3e485-ed92-45d7-a455-22848ed65d0e",
        "colab": {
          "base_uri": "https://localhost:8080/",
          "height": 34
        }
      },
      "source": [
        "# Fitting and cross-validating ANN\n",
        "estimator = KerasClassifier(build_fn=baseline_model, epochs=100, batch_size=5, verbose=0)\n",
        "kfold = KFold(n_splits=5, shuffle=True)\n",
        "results = cross_val_score(estimator, x, y, cv=kfold)\n",
        "print(\"Neural Network Accuracy: %.2f%% (std. dev - %.2f%%)\" % (results.mean()*100, results.std()*100))"
      ],
      "execution_count": 33,
      "outputs": [
        {
          "output_type": "stream",
          "text": [
            "Neural Network Accuracy: 74.86% (std. dev - 4.26%)\n"
          ],
          "name": "stdout"
        }
      ]
    }
  ]
}